{
 "cells": [
  {
   "cell_type": "code",
   "execution_count": 5,
   "id": "a8e9b747-1267-4c2f-b621-cce165f69682",
   "metadata": {},
   "outputs": [],
   "source": [
    "import numpy as np\n",
    "import torch\n",
    "import h5py"
   ]
  },
  {
   "cell_type": "markdown",
   "id": "f1da3d07-304e-4e6c-9fb9-0bdd5c5b9e24",
   "metadata": {},
   "source": [
    "# Using spectral methods to compute the ground truth solution of the PDE\n",
    "Poisson function is given by:\n",
    "$-div\\ K \\nabla u = f$\n",
    "\n",
    "Helmholtz function is given by:\n",
    "$- \\nabla^2 U + \\omega u = f$\n",
    "\n",
    "\n",
    "Advection-Diffusion function is given by:\n",
    "$- div\\ K\\nabla u + v.\\nabla u = f$\n",
    "\n",
    "## Spectral Method with Radial Gaussian Basis Function\n",
    "Resolution of the grid is $128 \\times 128$.\\\n",
    "The given expansion used:\\\n",
    "$$\\begin{equation}\n",
    "f(x) ≈ f^{(N)}(x) = \\sum^{N}_{m=1} \\phi_i(x)p_i;\\ \\ \\phi_i(x) = \\phi(x-x_i)\\\\\n",
    "\\end{equation}\n",
    "$$\n",
    "Here $\\phi(x)$ is gaussian with standard diviation $\\sigma = \\frac{1}{32}$ i.e $4$ times the spatial resolution. Spacing between gaussians is $2\\sigma$. $s$ fraction of the $p_i$ value are set to zero and are randomly generated.\n",
    "\n",
    "We calculate $u$ from $f$ by using by using Fourier Transform of $f$ and then applying the inverse of the required operator and then applying Inverse Fourier Transform to get $u$. To test if our verify the solution, the operator of the equation is applied to $u$ and the norm of it should be very close to $f$"
   ]
  },
  {
   "cell_type": "code",
   "execution_count": 6,
   "id": "431f90aa-cb65-411c-b8b0-8a88ff4fcc0c",
   "metadata": {},
   "outputs": [],
   "source": [
    "ntrain = 100 # number of training examples\n",
    "nval = 25 # number of validation examples\n",
    "ntest = 25 # number of testing examples\n",
    "\n",
    "nx = ny = 128 # grid size nxn\n",
    "lx = ly = 1\n",
    "dx = lx/nx\n",
    "dy = ly/ny\n",
    "\n",
    "std = 1/32\n",
    "space = 2*std\n",
    "vfs = [0.2, 0.4, 0.6, 0.8]\n",
    "ng = 144 # number of gaussians in grid\n",
    "o1 = 1 # sample wavenumbers starting from o1\n",
    "o2 = 10 # sample wavenumbers starting from o2\n",
    "diff_coef_scale = 0.01\n",
    "\n",
    "\n",
    "x = np.arange(0, lx, dx)\n",
    "y = np.arange(0, ly, dy)"
   ]
  },
  {
   "cell_type": "code",
   "execution_count": 7,
   "id": "6b1b4cda-f146-4671-a8cc-4a0245e09043",
   "metadata": {},
   "outputs": [],
   "source": [
    "class Grid:\n",
    "    def __init__(self, nx=128, ny=128, std=1/32, num_gaussians= 144, Lx=1, Ly=1, isNormalize = True, isRemoval_Intregal =True):\n",
    "        self.nx = nx\n",
    "        self.ny = ny\n",
    "        self.Lx = Lx\n",
    "        self.Ly = Ly\n",
    "        self.std = std\n",
    "        self.space = 2 * self.std\n",
    "        self.dx = self.Lx / self.nx\n",
    "        self.dy = self.Ly / self.ny\n",
    "        self.isNormalize = isNormalize\n",
    "        self.num_gaussians = num_gaussians\n",
    "        self.isRemoval_Intregal = isRemoval_Intregal\n",
    "\n",
    "        x = np.arange(0, self.Lx, self.dx)\n",
    "        y = np.arange(0, self.Ly, self.dy)\n",
    "        self.x_cord, self.y_cord = np.meshgrid(x, y) \n",
    "        \n",
    "    def rbf(self, vf = 0.5, center=(0.5, 0.5)):\n",
    "        # Implementation of radial basis functions\n",
    "        num_centers_sqrt = np.sqrt(self.num_gaussians)  # Number of centers in each direction\n",
    "        grid_length = (num_centers_sqrt - 1) * self.space  # Length of the grid in each direction\n",
    "\n",
    "        # Generate grid of centers\n",
    "        centers_x = np.arange(center[0] - grid_length / 2, center[0] + grid_length / 2, self.space)\n",
    "        centers_y = np.arange(center[1] - grid_length / 2, center[1] + grid_length / 2, self.space)\n",
    "\n",
    "        # Create meshgrid from centers_x and centers_y\n",
    "        centers_x_grid, centers_y_grid = np.meshgrid(centers_x, centers_y)\n",
    "\n",
    "        # Calculate distances using vectorized operations\n",
    "        grid_distance_squared = ((x_cord[..., np.newaxis, np.newaxis] - centers_x_grid)**2 + (y_cord[..., np.newaxis, np.newaxis] - centers_y_grid)**2)\n",
    "\n",
    "        # Generating a random array and zeroing out x percent of its elements\n",
    "        p = np.where(np.random.rand(*centers_x_grid.shape) < vf, 0, \n",
    "                     0.999 * np.random.rand(*centers_x_grid.shape) + 0.001)\n",
    "\n",
    "        # Reshape p to have a shape compatible with broadcasting with grid\n",
    "        p_reshaped = p.reshape(1, 1, *p.shape)\n",
    "\n",
    "        # Calulate the source functions\n",
    "        R = 2 * self.std**2\n",
    "        f_basis_form = np.exp(-grid_distance_squared/R)\n",
    "        f_grid = np.sum(f_basis_form * p_reshaped, axis=(2, 3))\n",
    "\n",
    "        # Normalize the basis functions\n",
    "        if self.isNormalize:\n",
    "            f_grid /= np.max(f_grid)\n",
    "            \n",
    "        # Remove integral of the basis function\n",
    "        if self.isRemoval_Intregal:\n",
    "            integral_mean = np.mean(f_grid.flatten())\n",
    "            f_grid -= integral_mean\n",
    "\n",
    "        return f_grid\n",
    "\n",
    "    def fft_coef(self, u, is_torch=False):\n",
    "        # Implementation of FFT coefficients\n",
    "        nx, ny = u.shape\n",
    "        \n",
    "        if not is_torch:\n",
    "            ikx = 1j * np.concatenate((np.arange(0, nx//2+1, 1), \n",
    "                                       np.arange(-nx//2+1, 0, 1)))\n",
    "            iky = 1j * np.concatenate((np.arange(0, ny//2+1, 1), \n",
    "                                       np.arange(-ny//2+1, 0, 1)))\n",
    "            \n",
    "            ikx = ikx.reshape(nx, 1).repeat(ny, axis=1)\n",
    "            iky = iky.reshape(1, ny).repeat(nx, axis=0)\n",
    "        else:\n",
    "            ikx = 1j * torch.cat((torch.arange(0, nx/2+1, 1), \n",
    "                                  torch.arange(-nx/2+1, 0, 1)))\n",
    "            iky = 1j * torch.cat((torch.arange(0, ny/2+1, 1), \n",
    "                                  torch.arange(-ny/2+1, 0, 1)))\n",
    "            \n",
    "            ikx = np.repeat(ikx.reshape(1, -1), ny, axis=1)\n",
    "            iky = np.repeat(iky.reshape(-1, 1), nx, axis=0)\n",
    "\n",
    "        return ikx, iky\n",
    "\n",
    "    def laplacian(self, u):\n",
    "        # Implementation of laplacian operator\n",
    "        ikx, iky = self.fft_coef(u)\n",
    "        ikx2 = ikx**2\n",
    "        iky2 = iky**2\n",
    "        \n",
    "        u_hat = np.fft.fft2(u)\n",
    "        u_hat *= (ikx2+iky2) * (4.0 * np.pi**2)/(self.Lx*self.Ly)\n",
    "        \n",
    "        return np.real(np.fft.ifft2(u_hat))\n",
    "\n",
    "    def grad(self, u):\n",
    "        # Implementation of divergence operator\n",
    "        ikx, iky = self.fft_coef(u)\n",
    "        u_hat = np.fft.fft2(u)\n",
    "        \n",
    "        ux = np.real(np.fft.ifft2(u_hat * ikx)) * (2.0 * np.pi)/self.Lx\n",
    "        uy = np.real(np.fft.ifft2(u_hat * iky)) * (2.0 * np.pi)/self.Ly\n",
    "        \n",
    "        return ux, uy\n",
    "\n",
    "    def invLaplacian(self, f, offset=0):\n",
    "        # Implementation of Inverse laplacian Operator with support for an offset \n",
    "        ikx, iky = self.fft_coef(f)\n",
    "        ikx2 = ikx**2\n",
    "        iky2 = iky**2\n",
    "        \n",
    "        f_hat = np.fft.fft2(f)\n",
    "        factor = ((ikx2+iky2) * (4.0 * np.pi**2)/(self.Lx*self.Ly)) + offset\n",
    "        \n",
    "        factor_zeros = (factor==0)\n",
    "\n",
    "        u_hat = np.where(factor_zeros, 0, -1 / np.where(factor_zeros, 1, factor)) * np.where(factor_zeros, 0, f_hat)\n",
    "        \n",
    "        return np.real(np.fft.ifft2(u_hat))\n",
    "        \n",
    "    def invPoission(self, u):\n",
    "        ikx, iky = self.fft_coef(f)\n",
    "        ikx2 = ikx**2\n",
    "        iky2 = iky**2\n",
    "\n",
    "        f_hat = np.fft.fft2(f)\n",
    "        factor = ((ikx2+iky2) * (4.0 * np.pi**2)/(self.Lx*self.Ly))\n",
    "\n",
    "        \n",
    "        return"
   ]
  },
  {
   "cell_type": "code",
   "execution_count": 28,
   "id": "c80753bc-69e0-407f-a45c-883eafb8c6ec",
   "metadata": {},
   "outputs": [],
   "source": [
    "a1 = 1\n",
    "a4 = 5 + np.random.rand() * (5 - 2)\n",
    "\n",
    "theta = np.random.rand() * 2 * np.pi\n",
    "rot = np.array([[np.cos(theta),-np.sin(theta)],[np.sin(theta),np.cos(theta)]]) \n",
    "theta_neg = -1 * theta\n",
    "rot_neg = np.array([[np.cos(theta_neg),-np.sin(theta_neg)],[np.sin(theta_neg),np.cos(theta_neg)]])\n",
    "A = np.array([[a1, 0], [0, a4]])\n"
   ]
  },
  {
   "cell_type": "code",
   "execution_count": 34,
   "id": "e2f5f8e4-bd38-411b-9c44-9cf0e7ba96eb",
   "metadata": {},
   "outputs": [
    {
     "data": {
      "text/plain": [
       "array([[ 0.96135431,  0.27531417],\n",
       "       [-0.27531417,  0.96135431]])"
      ]
     },
     "execution_count": 34,
     "metadata": {},
     "output_type": "execute_result"
    }
   ],
   "source": [
    "rot"
   ]
  },
  {
   "cell_type": "code",
   "execution_count": 35,
   "id": "6553e9f6-a4f5-4c31-a791-6aa297c0218a",
   "metadata": {},
   "outputs": [
    {
     "data": {
      "text/plain": [
       "array([[ 0.96135431, -0.27531417],\n",
       "       [ 0.27531417,  0.96135431]])"
      ]
     },
     "execution_count": 35,
     "metadata": {},
     "output_type": "execute_result"
    }
   ],
   "source": [
    "rot_neg"
   ]
  },
  {
   "cell_type": "code",
   "execution_count": 36,
   "id": "df92ae84-0161-44ce-95bc-8a26351d4851",
   "metadata": {},
   "outputs": [
    {
     "data": {
      "text/plain": [
       "array([[1.        , 0.        ],\n",
       "       [0.        , 5.48707492]])"
      ]
     },
     "execution_count": 36,
     "metadata": {},
     "output_type": "execute_result"
    }
   ],
   "source": [
    "A "
   ]
  },
  {
   "cell_type": "code",
   "execution_count": 33,
   "id": "77d4a8cc-e430-4b22-a535-8e5bd8e66fd8",
   "metadata": {},
   "outputs": [
    {
     "data": {
      "text/plain": [
       "array([[ 1.34011083, -1.18761416],\n",
       "       [-1.18761416,  5.14696409]])"
      ]
     },
     "execution_count": 33,
     "metadata": {},
     "output_type": "execute_result"
    }
   ],
   "source": [
    "rot_neg @ (A @ rot)"
   ]
  },
  {
   "cell_type": "code",
   "execution_count": 38,
   "id": "93a0140d-c33f-47bb-ae88-f8017a2e486c",
   "metadata": {},
   "outputs": [
    {
     "data": {
      "text/plain": [
       "array([[ 1.34011083, -1.18761416],\n",
       "       [-1.18761416,  5.14696409]])"
      ]
     },
     "execution_count": 38,
     "metadata": {},
     "output_type": "execute_result"
    }
   ],
   "source": [
    "np.matmul(rot_neg, np.matmul(A, rot))"
   ]
  },
  {
   "cell_type": "code",
   "execution_count": 8,
   "id": "a7b8b7ce-7b3b-4dc7-b8a2-1309973f7973",
   "metadata": {},
   "outputs": [
    {
     "data": {
      "text/plain": [
       "array([[ 0.66038786,  0.94274506, -0.05725494, -0.05725494, -0.05725494],\n",
       "       [-0.05724942, -0.05725494, -0.05725494, -0.05725494, -0.05725494],\n",
       "       [-0.05725494, -0.05725494, -0.05725494, -0.05725494, -0.05725494],\n",
       "       [-0.05725494, -0.05725494, -0.05725494, -0.05725494, -0.05725494],\n",
       "       [-0.05725494, -0.05725494, -0.05725494, -0.05725494, -0.05725494],\n",
       "       [-0.05725494, -0.05725494, -0.05725494, -0.05725494, -0.05725494]])"
      ]
     },
     "execution_count": 8,
     "metadata": {},
     "output_type": "execute_result"
    }
   ],
   "source": [
    "mygrid = Grid()\n",
    "a = mygrid.rbf()\n",
    "a"
   ]
  },
  {
   "cell_type": "code",
   "execution_count": 9,
   "id": "2eb65898-0bdb-48c0-8925-286eb67a12e0",
   "metadata": {},
   "outputs": [
    {
     "data": {
      "text/plain": [
       "array([[-1.00156338e+02, -1.70800841e+02,  4.13825552e+01,\n",
       "        -1.15833001e+01,  2.64272647e+01],\n",
       "       [ 5.66616768e+01,  7.89570907e+01, -3.72817511e-05,\n",
       "        -3.72818067e-05,  2.55533249e-04],\n",
       "       [-1.88871650e+01, -2.63189451e+01, -4.77518333e-15,\n",
       "         6.65703482e-15, -6.13734991e-15],\n",
       "       [ 1.41655556e+01,  1.97392088e+01,  4.73695313e-15,\n",
       "         2.07241438e-15,  5.32908339e-15],\n",
       "       [-1.88874923e+01, -2.63189451e+01, -4.69871982e-15,\n",
       "         2.81686832e-15, -8.07350480e-15],\n",
       "       [ 5.66626589e+01,  7.89568352e+01, -8.89905670e-16,\n",
       "        -9.94299031e-15,  1.45079419e-15]])"
      ]
     },
     "execution_count": 9,
     "metadata": {},
     "output_type": "execute_result"
    }
   ],
   "source": [
    "alpha = mygrid.laplacian(a)\n",
    "alpha"
   ]
  },
  {
   "cell_type": "code",
   "execution_count": 10,
   "id": "da438008-ea3f-4951-a362-81c10ee35704",
   "metadata": {},
   "outputs": [
    {
     "data": {
      "text/plain": [
       "array([[ 0.00797038,  0.0096367 ,  0.00167155, -0.00120403,  0.00085962],\n",
       "       [ 0.00296878,  0.00357809,  0.00013024, -0.001667  , -0.00037721],\n",
       "       [-0.00095851, -0.00082507, -0.00183706, -0.00258863, -0.00204926],\n",
       "       [-0.00182001, -0.00170127, -0.00249703, -0.00301987, -0.00264466],\n",
       "       [-0.00095853, -0.00082508, -0.00183706, -0.00258863, -0.00204927],\n",
       "       [ 0.00296874,  0.00357808,  0.00013023, -0.00166701, -0.00037723]])"
      ]
     },
     "execution_count": 10,
     "metadata": {},
     "output_type": "execute_result"
    }
   ],
   "source": [
    "beta = mygrid.invLaplacian(a)\n",
    "beta"
   ]
  },
  {
   "cell_type": "code",
   "execution_count": 22,
   "id": "50c0ef7a-c1b1-41eb-a071-32e0e5e16d92",
   "metadata": {},
   "outputs": [],
   "source": [
    "class EquationSolver(Grid):\n",
    "    def __init__(self, equation_type='helmholtz', nx=128, ny=128, std=1/32, num_gaussians= 144, Lx=1, Ly=1, omega_lower_limt = 0, omega_upper_limit = 1, isNormalize = True, isRemoval_Intregal =True, sparse=False, data_path=\"./\"):\n",
    "        super().__init__(nx=128, ny=128, std=1/32, num_gaussians= 144, Lx=1, Ly=1, isNormalize = True, isRemoval_Intregal =True)\n",
    "        self.equation_type = equation_type\n",
    "        self.num_gaussians = num_gaussians\n",
    "        self.data_path = data_path\n",
    "        self.sparse = sparse\n",
    "        self.omega_lower_limt = omega_lower_limt\n",
    "        self.omega_upper_limit = omega_upper_limit\n",
    "\n",
    "    def helmholtz(self):\n",
    "        # Implementation for solving Helmholtz equation using Grid methods\n",
    "\n",
    "        error = 100\n",
    "\n",
    "        while error > 1E-5:\n",
    "            source = self.rbf()\n",
    "            omega = np.random.randint(self.omega_lower_limt, self.omega_upper_limit+1)\n",
    "            \n",
    "            u_self = self.invLaplacian(source, omega)\n",
    "            lhs = (self.laplacian(u_self) + omega*u_self)\n",
    "            \n",
    "            error = np.abs(np.linalg.norm(lhs)-np.linalg.norm(source))\n",
    "            if (error > 1E-5):\n",
    "                print(\"Didn't converge error at \", error)\n",
    "        \n",
    "        return u_self, source, omega\n",
    "\n",
    "    def poisson(self):\n",
    "        # Implementation for solving Poisson equation using Grid methods\n",
    "        \n",
    "        return u, source, k\n",
    "\n",
    "    def advection_diffusion(self):\n",
    "        # Implementation for solving Advection-Diffusion equation using Grid methods\n",
    "        return u, source, diffusion_tensor\n",
    "\n",
    "    def create_hdf5(self, path, dat, ten):\n",
    "        # Implementation to create HDF5 files\n",
    "        pass\n",
    "\n",
    "    def generate_data(self, ntrain=100, nval=25, ntest=25, e1=1, e2=5, o1=1, o2=10):\n",
    "        train = np.zeros((ntrain, 2, self.grid_size, self.grid_size))\n",
    "        train_info = np.zeros((ntrain, 2))\n",
    "        val = np.zeros((nval, 2, self.grid_size, self.grid_size))\n",
    "        val_info = np.zeros((nval, 2))\n",
    "        test = np.zeros((ntest, 2, self.grid_size, self.grid_size))\n",
    "        test_info = np.zeros((ntest, 2))\n",
    "\n",
    "        for idx, vf in enumerate([0.2, 0.4, 0.6, 0.8]):\n",
    "            if self.equation_type == 'helmholtz':\n",
    "                u, source, info = self.helmholtz()\n",
    "            elif self.equation_type == 'poisson':\n",
    "                u, source, info = self.poisson()\n",
    "            elif self.equation_type == 'advdiff':\n",
    "                u, source, info = self.advection_diffusion()\n",
    "\n",
    "            # Assign data to appropriate datasets (train, validation, test)\n",
    "\n",
    "        # Save data into HDF5 files\n"
   ]
  },
  {
   "cell_type": "code",
   "execution_count": 26,
   "id": "2ecc05d3-1915-4e60-9c20-3382cdf2695d",
   "metadata": {},
   "outputs": [
    {
     "name": "stdout",
     "output_type": "stream",
     "text": [
      "Helmholtz, u: [[ 0.00908527  0.0059224   0.00030816 -0.00102628  0.00184932]\n",
      " [ 0.00336849  0.00221186 -0.00058687 -0.0014209   0.00037636]\n",
      " [-0.00063347 -0.00088678 -0.00185769 -0.00220646 -0.00145488]\n",
      " [-0.00138801 -0.00161341 -0.00233141 -0.00257403 -0.00205119]\n",
      " [-0.0006335  -0.00088679 -0.00185769 -0.00220647 -0.00145489]\n",
      " [ 0.00336844  0.00221184 -0.00058688 -0.0014209   0.00037634]]\n",
      "f: [[ 0.00908527  0.0059224   0.00030816 -0.00102628  0.00184932]\n",
      " [ 0.00336849  0.00221186 -0.00058687 -0.0014209   0.00037636]\n",
      " [-0.00063347 -0.00088678 -0.00185769 -0.00220646 -0.00145488]\n",
      " [-0.00138801 -0.00161341 -0.00233141 -0.00257403 -0.00205119]\n",
      " [-0.0006335  -0.00088679 -0.00185769 -0.00220647 -0.00145489]\n",
      " [ 0.00336844  0.00221184 -0.00058688 -0.0014209   0.00037634]]\n",
      "omega: 0\n"
     ]
    }
   ],
   "source": [
    "helmholtz_eq = EquationSolver(equation_type='helmholtz', isRemoval_Intregal = False)\n",
    "helmholtz_sol, helmholtz_f, helmholtz_omega = helmholtz_eq.helmholtz()\n",
    "print(\"Helmholtz, u:\", helmholtz_sol)\n",
    "print(\"f:\", helmholtz_sol)\n",
    "print(\"omega:\", helmholtz_omega)"
   ]
  },
  {
   "cell_type": "code",
   "execution_count": null,
   "id": "9696b2ef-79f5-4ff9-98b3-2c291d8704f8",
   "metadata": {},
   "outputs": [],
   "source": []
  }
 ],
 "metadata": {
  "kernelspec": {
   "display_name": "Python 3 (ipykernel)",
   "language": "python",
   "name": "python3"
  },
  "language_info": {
   "codemirror_mode": {
    "name": "ipython",
    "version": 3
   },
   "file_extension": ".py",
   "mimetype": "text/x-python",
   "name": "python",
   "nbconvert_exporter": "python",
   "pygments_lexer": "ipython3",
   "version": "3.11.7"
  }
 },
 "nbformat": 4,
 "nbformat_minor": 5
}
