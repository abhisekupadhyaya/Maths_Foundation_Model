{
  "nbformat": 4,
  "nbformat_minor": 0,
  "metadata": {
    "colab": {
      "provenance": []
    },
    "kernelspec": {
      "name": "python3",
      "display_name": "Python 3"
    },
    "language_info": {
      "name": "python"
    }
  },
  "cells": [
    {
      "cell_type": "markdown",
      "source": [
        "# Import tools"
      ],
      "metadata": {
        "id": "KMkHKYTqw6rF"
      }
    },
    {
      "cell_type": "code",
      "execution_count": null,
      "metadata": {
        "id": "LOd1RjTIw1-l"
      },
      "outputs": [],
      "source": [
        "import numpy as np\n",
        "import torch\n",
        "import h5py"
      ]
    },
    {
      "cell_type": "markdown",
      "source": [
        "# Using spectral methods to compute the ground truth solution of the PDE\n",
        "Poisson function is given by:\n",
        "$-div\\ K \\nabla u = f$\n",
        "\n",
        "Helmholtz function is given by:\n",
        "$- \\nabla^2 U + \\omega u = f$\n",
        "\n",
        "\n",
        "Advection-Diffusion function is given by:\n",
        "$- div\\ K\\nabla u + v.\\nabla u = f$\n",
        "\n",
        "## Spectral Method with Radial Gaussian Basis Function\n",
        "Resolution of the grid is $128 \\times 128$.\\\n",
        "The given expansion used:\\\n",
        "$$\\begin{equation}\n",
        "u(x) ≈ u^{(N)}(x) = \\sum^{N}_{m=1} \\phi_i(x)p_i;\\ \\ \\phi_i(x) = \\phi(x-x_i)\\\\\n",
        "\\end{equation}\n",
        "$$\n",
        "Here $\\phi(x)$ is gaussian with standard diviation $\\sigma = \\frac{1}{32}$ i.e $4$ times the spatial resolution. Spacing between gaussians is $2\\sigma$. $s$ fraction of the $p_i$ value are set to zero."
      ],
      "metadata": {
        "id": "xpMuDiQ2xA4M"
      }
    },
    {
      "cell_type": "code",
      "source": [
        "ntrain = 100 # number of training examples\n",
        "nval = 25 # number of validation examples\n",
        "ntest = 25 # number of testing examples\n",
        "\n",
        "nx = ny = 128 # grid size nxn\n",
        "lx = ly = 1\n",
        "dx = lx/nx\n",
        "dy = ly/ny\n",
        "\n",
        "std = 1/32\n",
        "space = 2*std\n",
        "vfs = [0.2, 0.4, 0.6, 0.8]\n",
        "ng = 144 # number of gaussians in grid\n",
        "o1 = 1 # sample wavenumbers starting from o1\n",
        "o2 = 10 # sample wavenumbers starting from o2\n",
        "diff_coef_scale = 0.01\n",
        "\n",
        "\n",
        "x = np.arange(0, lx, dx)\n",
        "y = np.arange(0, ly, dy)"
      ],
      "metadata": {
        "id": "Gh5JgUw9gZUF"
      },
      "execution_count": null,
      "outputs": []
    },
    {
      "cell_type": "code",
      "source": [
        "vf = vfs[0]\n",
        "u, source, om = helmholtz(x, y, std, space, nx, ny, lx, ly, vf, ng, o1, o2, diff_coef_scale)"
      ],
      "metadata": {
        "id": "pGGgszxVhGrc"
      },
      "execution_count": null,
      "outputs": []
    },
    {
      "cell_type": "code",
      "source": [
        "import numpy as np\n",
        "\n",
        "\n",
        "x = np.arange(0, 5, 1)\n",
        "y = np.arange(0, 6, 1)\n",
        "x_cord, y_cord = np.meshgrid(x, y)\n",
        "\n",
        "\n",
        "centers_x = np.arange(-2, 2, 1)\n",
        "centers_y = np.arange(-2, 3, 1)\n",
        "\n",
        "# Create meshgrid from centers_x and centers_y\n",
        "centers_x_grid, centers_y_grid = np.meshgrid(centers_x, centers_y)\n",
        "\n",
        "p = np.where((0.999 *np.random.rand(*centers_x_grid.shape) + 0.001) < 0.5, 0,\n",
        "             np.random.rand(*centers_x_grid.shape))\n",
        "\n",
        "# Reshape p to have a shape compatible with broadcasting with grid\n",
        "p_reshaped = p.reshape(1, 1, *p.shape)\n",
        "\n",
        "# Calculate distances using vectorized operations\n",
        "grid = (x_cord[..., np.newaxis, np.newaxis] - centers_x_grid)**2 + (y_cord[..., np.newaxis, np.newaxis] - centers_y_grid)**2\n",
        "\n",
        "u_grid = np.sum(grid * p_reshaped, axis=(2, 3))"
      ],
      "metadata": {
        "id": "AcDsgA5cEzYj"
      },
      "execution_count": 67,
      "outputs": []
    },
    {
      "cell_type": "code",
      "source": [
        "x_cord\n",
        "y_cord\n",
        "centers_x_grid\n",
        "centers_y_grid\n",
        "centers_x_grid.shape\n",
        "grid\n",
        "p\n",
        "p_reshaped\n",
        "u_grid\n",
        "u_grid/np.max(u_grid)"
      ],
      "metadata": {
        "colab": {
          "base_uri": "https://localhost:8080/"
        },
        "id": "PknqmAXbE9u9",
        "outputId": "64336dd5-7e90-41df-ef85-0a4c1ebf09d0"
      },
      "execution_count": 68,
      "outputs": [
        {
          "output_type": "execute_result",
          "data": {
            "text/plain": [
              "array([[0, 1, 2, 3, 4],\n",
              "       [0, 1, 2, 3, 4],\n",
              "       [0, 1, 2, 3, 4],\n",
              "       [0, 1, 2, 3, 4],\n",
              "       [0, 1, 2, 3, 4],\n",
              "       [0, 1, 2, 3, 4]])"
            ]
          },
          "metadata": {},
          "execution_count": 68
        }
      ]
    },
    {
      "cell_type": "code",
      "source": [
        "class Grid:\n",
        "    def __init__(self, nx=128, ny=128, std=1/32, num_gaussians= 144, Lx=1, Ly=1, isNormalize = True, isRemoval_Intregal =True):\n",
        "        self.nx = nx\n",
        "        self.ny = ny\n",
        "        self.Lx = Lx\n",
        "        self.Ly = Ly\n",
        "        self.std = std\n",
        "        self.space = 2 * self.std\n",
        "        self.dx = self.Lx / self.nx\n",
        "        self.dy = self.Ly / self.ny\n",
        "        self.isNormalize = isNormalize\n",
        "        self.num_gaussians = num_gaussians\n",
        "        self.isRemoval_Intregal = isRemoval_Intregal\n",
        "\n",
        "        x = np.arange(0, self.Lx, self.dx)\n",
        "        y = np.arange(0, self.Ly, self.dy)\n",
        "        self.x_cord, self.y_cord = np.meshgrid(x, y)\n",
        "\n",
        "    def rbf(self, center=(0.5, 0.5)):\n",
        "        # Implementation of radial basis functions\n",
        "        num_centers_sqrt = np.sqrt(self.num_gaussians)  # Number of centers in each direction\n",
        "        grid_length = (num_centers_sqrt - 1) * self.space  # Length of the grid in each direction\n",
        "\n",
        "        # Generate grid of centers\n",
        "        centers_x = np.arange(center[0] - grid_length / 2, center[0] + grid_length / 2 + spacing, self.space)\n",
        "        centers_y = np.arange(center[1] - grid_length / 2, center[1] + grid_length / 2 + spacing, self.space)\n",
        "\n",
        "        # Create meshgrid from centers_x and centers_y\n",
        "        centers_x_grid, centers_y_grid = np.meshgrid(centers_x, centers_y)\n",
        "\n",
        "        # Calculate distances using vectorized operations\n",
        "        grid_distance_squared = ((x_cord[..., np.newaxis, np.newaxis] - centers_x_grid)**2 + (y_cord[..., np.newaxis, np.newaxis] - centers_y_grid)**2)\n",
        "\n",
        "        # Generating a random array and zeroing out x percent of its elements\n",
        "        p = np.where((0.999 * np.random.rand(*centers_x_grid.shape)+ 0.001) < vf, 0,\n",
        "                     np.random.rand(*centers_x_grid.shape))\n",
        "\n",
        "        # Reshape p to have a shape compatible with broadcasting with grid\n",
        "        p_reshaped = p.reshape(1, 1, *p.shape)\n",
        "\n",
        "        # Calulate the source function\n",
        "        R = 2 * sigma**2\n",
        "        u_basis_form = np.exp(grid_distance_squared/R)\n",
        "        u_grid = u_basis_form * p_reshaped\n",
        "\n",
        "        # Normalize the basis functions\n",
        "        if self.isNormalize:\n",
        "            u_grid /= np.max(u_grid)\n",
        "\n",
        "        # Remove integral of the basis function\n",
        "        if self.isRemoval_Intregal:\n",
        "            integral_mean = np.mean(u_grid.flatten())\n",
        "            u_grid -= integral_mean\n",
        "\n",
        "        return u_grid\n",
        "\n",
        "    def fft_coef(self, u):\n",
        "        # Implementation of FFT coefficients\n",
        "        nx, ny = u.shape\n",
        "\n",
        "        if not is_torch:\n",
        "            ikx = 1j * np.concatenate((np.arange(0, nx//2+1, 1),\n",
        "                                       np.arange(-nx//2+1, 0, 1)))\n",
        "            iky = 1j * np.concatenate((np.arange(0, ny//2+1, 1),\n",
        "                                       np.arange(-ny//2+1, 0, 1)))\n",
        "\n",
        "            ikx = ikx.reshape(1, nx).repeat(ny, axis=0)\n",
        "            iky = iky.reshape(ny, 1).repeat(nx, axis=1)\n",
        "        else:\n",
        "            ikx = 1j * torch.cat((torch.arange(0, nx/2+1, 1),\n",
        "                                  torch.arange(-nx/2+1, 0, 1)))\n",
        "            iky = 1j * torch.cat((torch.arange(0, ny/2+1, 1),\n",
        "                                  torch.arange(-ny/2+1, 0, 1)))\n",
        "\n",
        "            ikx = np.repeat(ikx.reshape(1, -1), ny, axis=0)\n",
        "            iky = np.repeat(iky.reshape(-1, 1), nx, axis=1)\n",
        "\n",
        "        return ikx, iky\n",
        "\n",
        "    def laplacian(self, u):\n",
        "        # Implementation of laplacian operator\n",
        "        ikx, iky = self.fft_coef(u)\n",
        "        ikx2 = ikx**2\n",
        "        iky2 = iky**2\n",
        "\n",
        "        u_hat = np.fft.fft2(u)\n",
        "        u_hat *= (ikx2+iky2) * (4.0 * np.pi**2)/(self.Lx*self.Ly)\n",
        "\n",
        "        return np.real(np.fft.ifft2(u_hat))\n",
        "\n",
        "    def div(self, u):\n",
        "        # Implementation of divergence operator\n",
        "        ikx, iky = self.fft_coef(u)\n",
        "        ux_hat = np.fft.fft2(ux)\n",
        "        uy_hat = np.fft.fft2(uy)\n",
        "\n",
        "        u1 = np.real(np.fft.ifft2(ux_hat * ikx)) * (2.0 * np.pi) / self.Lx\n",
        "        u2 = np.real(np.fft.ifft2(uy_hat * iky)) * (2.0 * np.pi) / self.Ly\n",
        "\n",
        "        return u1 + u2"
      ],
      "metadata": {
        "id": "ZjZOf3qO9LQb"
      },
      "execution_count": null,
      "outputs": []
    },
    {
      "cell_type": "code",
      "source": [
        "class EquationSolver(Grid):\n",
        "    def __init__(self, equation_type='helmholtz', num_gaussians=144, grid_size=128, std=1/32, Lx=1, Ly=1, sparse=False, data_path=\"./\"):\n",
        "        super().__init__(grid_size=128, std=1/32, Lx=1, Ly=1)\n",
        "        self.equation_type = equation_type\n",
        "        self.num_gaussians = num_gaussians\n",
        "        self.sparse = sparse\n",
        "        self.data_path = data_path\n",
        "\n",
        "    def helmholtz(self):\n",
        "        # Implementation for solving Helmholtz equation using Grid methods\n",
        "\n",
        "        u_grid = self.rbf()\n",
        "\n",
        "        omega = np.random.randint(self.o1, self.o2+1)\n",
        "        self.laplacian(u)\n",
        "\n",
        "        u_grid_hat = np.fft.fft2(u_grid)\n",
        "\n",
        "\n",
        "\n",
        "\n",
        "\n",
        "\n",
        "        return u, source, omega\n",
        "\n",
        "    def poisson(self):\n",
        "        # Implementation for solving Poisson equation using Grid methods\n",
        "        return u, source, k\n",
        "\n",
        "    def advection_diffusion(self):\n",
        "        # Implementation for solving Advection-Diffusion equation using Grid methods\n",
        "        return u, source, diffusion_tensor\n",
        "\n",
        "    def create_hdf5(self, path, dat, ten):\n",
        "        # Implementation to create HDF5 files\n",
        "        pass\n",
        "\n",
        "    def generate_data(self, ntrain=100, nval=25, ntest=25, e1=1, e2=5, o1=1, o2=10):\n",
        "        train = np.zeros((ntrain, 2, self.grid_size, self.grid_size))\n",
        "        train_info = np.zeros((ntrain, 2))\n",
        "        val = np.zeros((nval, 2, self.grid_size, self.grid_size))\n",
        "        val_info = np.zeros((nval, 2))\n",
        "        test = np.zeros((ntest, 2, self.grid_size, self.grid_size))\n",
        "        test_info = np.zeros((ntest, 2))\n",
        "\n",
        "        for idx, vf in enumerate([0.2, 0.4, 0.6, 0.8]):\n",
        "            if self.equation_type == 'helmholtz':\n",
        "                u, source, info = self.helmholtz()\n",
        "            elif self.equation_type == 'poisson':\n",
        "                u, source, info = self.poisson()\n",
        "            elif self.equation_type == 'advdiff':\n",
        "                u, source, info = self.advection_diffusion()\n",
        "\n",
        "            # Assign data to appropriate datasets (train, validation, test)\n",
        "\n",
        "        # Save data into HDF5 files\n"
      ],
      "metadata": {
        "id": "dEjekseK9FhQ"
      },
      "execution_count": null,
      "outputs": []
    }
  ]
}